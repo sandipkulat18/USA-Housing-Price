{
 "cells": [
  {
   "cell_type": "markdown",
   "id": "d742c905",
   "metadata": {},
   "source": [
    "# <B>Data Cleaning</B>"
   ]
  },
  {
   "cell_type": "code",
   "execution_count": 1,
   "id": "937ba3f8",
   "metadata": {},
   "outputs": [],
   "source": [
    "\n",
    "import pandas as pd\n",
    "import os\n",
    "import numpy as np\n",
    "import seaborn as sns\n",
    "import matplotlib.pyplot as plt"
   ]
  },
  {
   "cell_type": "code",
   "execution_count": 2,
   "id": "8343bca8",
   "metadata": {},
   "outputs": [],
   "source": [
    "# Creating Directory Cleaned data for storing cleaned data\n",
    "\n",
    "directory_path = \"Cleaned data\"\n",
    "os.makedirs(directory_path, exist_ok=True)"
   ]
  },
  {
   "cell_type": "markdown",
   "id": "9c41b1fc",
   "metadata": {},
   "source": [
    "## Target\n",
    "  #### S&P/Case-Shiller U.S. National Home Price Index"
   ]
  },
  {
   "cell_type": "code",
   "execution_count": 3,
   "id": "65e2a387",
   "metadata": {},
   "outputs": [],
   "source": [
    "# Reading target data\n",
    "target = pd.read_csv(\"CSUSHPINSA.csv\")"
   ]
  },
  {
   "cell_type": "code",
   "execution_count": 4,
   "id": "1cd51122",
   "metadata": {},
   "outputs": [
    {
     "data": {
      "text/html": [
       "<div>\n",
       "<style scoped>\n",
       "    .dataframe tbody tr th:only-of-type {\n",
       "        vertical-align: middle;\n",
       "    }\n",
       "\n",
       "    .dataframe tbody tr th {\n",
       "        vertical-align: top;\n",
       "    }\n",
       "\n",
       "    .dataframe thead th {\n",
       "        text-align: right;\n",
       "    }\n",
       "</style>\n",
       "<table border=\"1\" class=\"dataframe\">\n",
       "  <thead>\n",
       "    <tr style=\"text-align: right;\">\n",
       "      <th></th>\n",
       "      <th>DATE</th>\n",
       "      <th>CSUSHPINSA</th>\n",
       "    </tr>\n",
       "  </thead>\n",
       "  <tbody>\n",
       "    <tr>\n",
       "      <th>0</th>\n",
       "      <td>1990-01-01</td>\n",
       "      <td>76.527</td>\n",
       "    </tr>\n",
       "    <tr>\n",
       "      <th>1</th>\n",
       "      <td>1990-02-01</td>\n",
       "      <td>76.587</td>\n",
       "    </tr>\n",
       "    <tr>\n",
       "      <th>2</th>\n",
       "      <td>1990-03-01</td>\n",
       "      <td>76.790</td>\n",
       "    </tr>\n",
       "    <tr>\n",
       "      <th>3</th>\n",
       "      <td>1990-04-01</td>\n",
       "      <td>77.038</td>\n",
       "    </tr>\n",
       "    <tr>\n",
       "      <th>4</th>\n",
       "      <td>1990-05-01</td>\n",
       "      <td>77.297</td>\n",
       "    </tr>\n",
       "  </tbody>\n",
       "</table>\n",
       "</div>"
      ],
      "text/plain": [
       "         DATE  CSUSHPINSA\n",
       "0  1990-01-01      76.527\n",
       "1  1990-02-01      76.587\n",
       "2  1990-03-01      76.790\n",
       "3  1990-04-01      77.038\n",
       "4  1990-05-01      77.297"
      ]
     },
     "execution_count": 4,
     "metadata": {},
     "output_type": "execute_result"
    }
   ],
   "source": [
    "\n",
    "target.head()\n"
   ]
  },
  {
   "cell_type": "code",
   "execution_count": 5,
   "id": "68338787",
   "metadata": {},
   "outputs": [],
   "source": [
    "\n",
    "# Setting DATE as index, column renaming, setting DATE as index, filtering data from \"1987-01-01\":\"2023-07-01\".\n",
    "\n",
    "target.set_index('DATE', inplace =True)\n",
    "target.rename(columns= {'CSUSHPINSA': 'target'}, inplace =True)\n",
    "target.index = pd.to_datetime(target.index)\n",
    "target = target[\"1990-01-01\":\"2023-07-01\"]"
   ]
  },
  {
   "cell_type": "code",
   "execution_count": 6,
   "id": "65aa4b0d",
   "metadata": {},
   "outputs": [
    {
     "data": {
      "text/plain": [
       "(403, 1)"
      ]
     },
     "execution_count": 6,
     "metadata": {},
     "output_type": "execute_result"
    }
   ],
   "source": [
    "\n",
    "target.shape"
   ]
  },
  {
   "cell_type": "code",
   "execution_count": 7,
   "id": "c2c73ca5",
   "metadata": {},
   "outputs": [],
   "source": [
    "\n",
    "target.to_csv(\"Cleaned data/target.csv\")"
   ]
  },
  {
   "cell_type": "markdown",
   "id": "08bed028",
   "metadata": {},
   "source": [
    "## Population\n",
    "### Population includes resident population plus armed forces overseas."
   ]
  },
  {
   "cell_type": "code",
   "execution_count": 8,
   "id": "4f5aac59",
   "metadata": {},
   "outputs": [],
   "source": [
    "\n",
    "population = pd.read_csv('POP.csv')\n",
    "     "
   ]
  },
  {
   "cell_type": "code",
   "execution_count": 9,
   "id": "5ec0b62b",
   "metadata": {},
   "outputs": [
    {
     "data": {
      "text/html": [
       "<div>\n",
       "<style scoped>\n",
       "    .dataframe tbody tr th:only-of-type {\n",
       "        vertical-align: middle;\n",
       "    }\n",
       "\n",
       "    .dataframe tbody tr th {\n",
       "        vertical-align: top;\n",
       "    }\n",
       "\n",
       "    .dataframe thead th {\n",
       "        text-align: right;\n",
       "    }\n",
       "</style>\n",
       "<table border=\"1\" class=\"dataframe\">\n",
       "  <thead>\n",
       "    <tr style=\"text-align: right;\">\n",
       "      <th></th>\n",
       "      <th>DATE</th>\n",
       "      <th>POP</th>\n",
       "    </tr>\n",
       "  </thead>\n",
       "  <tbody>\n",
       "    <tr>\n",
       "      <th>0</th>\n",
       "      <td>1990-01-01</td>\n",
       "      <td>248659.0</td>\n",
       "    </tr>\n",
       "    <tr>\n",
       "      <th>1</th>\n",
       "      <td>1990-02-01</td>\n",
       "      <td>248827.0</td>\n",
       "    </tr>\n",
       "    <tr>\n",
       "      <th>2</th>\n",
       "      <td>1990-03-01</td>\n",
       "      <td>249012.0</td>\n",
       "    </tr>\n",
       "    <tr>\n",
       "      <th>3</th>\n",
       "      <td>1990-04-01</td>\n",
       "      <td>249306.0</td>\n",
       "    </tr>\n",
       "    <tr>\n",
       "      <th>4</th>\n",
       "      <td>1990-05-01</td>\n",
       "      <td>249565.0</td>\n",
       "    </tr>\n",
       "  </tbody>\n",
       "</table>\n",
       "</div>"
      ],
      "text/plain": [
       "         DATE       POP\n",
       "0  1990-01-01  248659.0\n",
       "1  1990-02-01  248827.0\n",
       "2  1990-03-01  249012.0\n",
       "3  1990-04-01  249306.0\n",
       "4  1990-05-01  249565.0"
      ]
     },
     "execution_count": 9,
     "metadata": {},
     "output_type": "execute_result"
    }
   ],
   "source": [
    "\n",
    "population.head()"
   ]
  },
  {
   "cell_type": "code",
   "execution_count": 10,
   "id": "e9ad4890",
   "metadata": {},
   "outputs": [],
   "source": [
    "# Setting DATE as index, column renaming, setting DATE as index, filtering data from \"1987-01-01\":\"2023-07-01\".\n",
    "\n",
    "population.set_index('DATE', inplace =True)\n",
    "population.rename(columns= {'POPTHM': 'population'}, inplace =True)\n",
    "population.index = pd.to_datetime(population.index)\n",
    "population = population[\"1990-01-01\":\"2023-07-01\"]"
   ]
  },
  {
   "cell_type": "code",
   "execution_count": 11,
   "id": "eeaf35a8",
   "metadata": {},
   "outputs": [
    {
     "data": {
      "text/plain": [
       "(403, 1)"
      ]
     },
     "execution_count": 11,
     "metadata": {},
     "output_type": "execute_result"
    }
   ],
   "source": [
    "population.shape"
   ]
  },
  {
   "cell_type": "code",
   "execution_count": 12,
   "id": "8719cd2a",
   "metadata": {},
   "outputs": [],
   "source": [
    "\n",
    "population.to_csv('Cleaned data/population.csv')"
   ]
  },
  {
   "cell_type": "markdown",
   "id": "4a8bc7be",
   "metadata": {},
   "source": [
    "### Personal Income\n",
    "##### Income that persons receive in return for their provision of labor, land, and capital used in current production and the net current transfer payments that they receive from business and from government."
   ]
  },
  {
   "cell_type": "code",
   "execution_count": 13,
   "id": "081b0904",
   "metadata": {},
   "outputs": [],
   "source": [
    "income = pd.read_csv('PI.csv')"
   ]
  },
  {
   "cell_type": "code",
   "execution_count": 14,
   "id": "c455550a",
   "metadata": {},
   "outputs": [
    {
     "data": {
      "text/html": [
       "<div>\n",
       "<style scoped>\n",
       "    .dataframe tbody tr th:only-of-type {\n",
       "        vertical-align: middle;\n",
       "    }\n",
       "\n",
       "    .dataframe tbody tr th {\n",
       "        vertical-align: top;\n",
       "    }\n",
       "\n",
       "    .dataframe thead th {\n",
       "        text-align: right;\n",
       "    }\n",
       "</style>\n",
       "<table border=\"1\" class=\"dataframe\">\n",
       "  <thead>\n",
       "    <tr style=\"text-align: right;\">\n",
       "      <th></th>\n",
       "      <th>DATE</th>\n",
       "      <th>PI</th>\n",
       "    </tr>\n",
       "  </thead>\n",
       "  <tbody>\n",
       "    <tr>\n",
       "      <th>0</th>\n",
       "      <td>1990-01-01</td>\n",
       "      <td>4783.8</td>\n",
       "    </tr>\n",
       "    <tr>\n",
       "      <th>1</th>\n",
       "      <td>1990-02-01</td>\n",
       "      <td>4819.8</td>\n",
       "    </tr>\n",
       "    <tr>\n",
       "      <th>2</th>\n",
       "      <td>1990-03-01</td>\n",
       "      <td>4842.7</td>\n",
       "    </tr>\n",
       "    <tr>\n",
       "      <th>3</th>\n",
       "      <td>1990-04-01</td>\n",
       "      <td>4883.8</td>\n",
       "    </tr>\n",
       "    <tr>\n",
       "      <th>4</th>\n",
       "      <td>1990-05-01</td>\n",
       "      <td>4889.5</td>\n",
       "    </tr>\n",
       "  </tbody>\n",
       "</table>\n",
       "</div>"
      ],
      "text/plain": [
       "         DATE      PI\n",
       "0  1990-01-01  4783.8\n",
       "1  1990-02-01  4819.8\n",
       "2  1990-03-01  4842.7\n",
       "3  1990-04-01  4883.8\n",
       "4  1990-05-01  4889.5"
      ]
     },
     "execution_count": 14,
     "metadata": {},
     "output_type": "execute_result"
    }
   ],
   "source": [
    "\n",
    "income.head()"
   ]
  },
  {
   "cell_type": "code",
   "execution_count": 15,
   "id": "f8e28058",
   "metadata": {},
   "outputs": [],
   "source": [
    "\n",
    "# Setting DATE as index, column renaming, setting DATE as index, filtering data from \"1987-01-01\":\"2023-07-01\"\n",
    "\n",
    "income.set_index('DATE', inplace =True)\n",
    "income.rename(columns= {'PI': 'income'}, inplace =True)\n",
    "income.index = pd.to_datetime(income.index)\n",
    "income = income[\"1990-01-01\":\"2023-07-01\"]"
   ]
  },
  {
   "cell_type": "code",
   "execution_count": 16,
   "id": "44d1ccde",
   "metadata": {},
   "outputs": [
    {
     "data": {
      "text/plain": [
       "(403, 1)"
      ]
     },
     "execution_count": 16,
     "metadata": {},
     "output_type": "execute_result"
    }
   ],
   "source": [
    "\n",
    "income.shape"
   ]
  },
  {
   "cell_type": "code",
   "execution_count": 17,
   "id": "d03c6d40",
   "metadata": {},
   "outputs": [],
   "source": [
    "income.to_csv(\"Cleaned data/income.csv\")"
   ]
  },
  {
   "cell_type": "markdown",
   "id": "9a568d8e",
   "metadata": {},
   "source": [
    "### Gross Domestic Product\n",
    "#### Featured measure of U.S. output, is the market value of the goods and services produced by labor and property located in the United States."
   ]
  },
  {
   "cell_type": "code",
   "execution_count": 18,
   "id": "f9bab243",
   "metadata": {},
   "outputs": [],
   "source": [
    "\n",
    "gdp = pd.read_csv(\"GDP.csv\")"
   ]
  },
  {
   "cell_type": "code",
   "execution_count": 19,
   "id": "2c1716bf",
   "metadata": {},
   "outputs": [
    {
     "data": {
      "text/html": [
       "<div>\n",
       "<style scoped>\n",
       "    .dataframe tbody tr th:only-of-type {\n",
       "        vertical-align: middle;\n",
       "    }\n",
       "\n",
       "    .dataframe tbody tr th {\n",
       "        vertical-align: top;\n",
       "    }\n",
       "\n",
       "    .dataframe thead th {\n",
       "        text-align: right;\n",
       "    }\n",
       "</style>\n",
       "<table border=\"1\" class=\"dataframe\">\n",
       "  <thead>\n",
       "    <tr style=\"text-align: right;\">\n",
       "      <th></th>\n",
       "      <th>DATE</th>\n",
       "      <th>GDP</th>\n",
       "    </tr>\n",
       "  </thead>\n",
       "  <tbody>\n",
       "    <tr>\n",
       "      <th>0</th>\n",
       "      <td>1990-01-01</td>\n",
       "      <td>5872.701</td>\n",
       "    </tr>\n",
       "    <tr>\n",
       "      <th>1</th>\n",
       "      <td>1990-04-01</td>\n",
       "      <td>5960.028</td>\n",
       "    </tr>\n",
       "    <tr>\n",
       "      <th>2</th>\n",
       "      <td>1990-07-01</td>\n",
       "      <td>6015.116</td>\n",
       "    </tr>\n",
       "    <tr>\n",
       "      <th>3</th>\n",
       "      <td>1990-10-01</td>\n",
       "      <td>6004.733</td>\n",
       "    </tr>\n",
       "    <tr>\n",
       "      <th>4</th>\n",
       "      <td>1991-01-01</td>\n",
       "      <td>6035.178</td>\n",
       "    </tr>\n",
       "  </tbody>\n",
       "</table>\n",
       "</div>"
      ],
      "text/plain": [
       "         DATE       GDP\n",
       "0  1990-01-01  5872.701\n",
       "1  1990-04-01  5960.028\n",
       "2  1990-07-01  6015.116\n",
       "3  1990-10-01  6004.733\n",
       "4  1991-01-01  6035.178"
      ]
     },
     "execution_count": 19,
     "metadata": {},
     "output_type": "execute_result"
    }
   ],
   "source": [
    "\n",
    "gdp.head()"
   ]
  },
  {
   "cell_type": "code",
   "execution_count": 20,
   "id": "d45519ba",
   "metadata": {},
   "outputs": [],
   "source": [
    "\n",
    "# Setting DATE as index, column renaming, setting DATE as index, filtering data from \"1987-01-01\":\"2023-07-01\"\n",
    "\n",
    "gdp.set_index('DATE', inplace =True)\n",
    "gdp.index = pd.to_datetime(gdp.index)\n",
    "\n",
    "# Resampling\n",
    "gdp = gdp.resample('M').ffill()\n",
    "\n",
    "# # Set the day of the index to 1\n",
    "gdp.index = gdp.index.map(lambda x: x.replace(day=1))\n",
    "gdp = gdp[\"1990-01-01\":\"2023-07-01\"]\n",
    "     "
   ]
  },
  {
   "cell_type": "code",
   "execution_count": 21,
   "id": "05a91c87",
   "metadata": {},
   "outputs": [
    {
     "data": {
      "text/plain": [
       "(403, 1)"
      ]
     },
     "execution_count": 21,
     "metadata": {},
     "output_type": "execute_result"
    }
   ],
   "source": [
    "\n",
    "gdp.shape"
   ]
  },
  {
   "cell_type": "code",
   "execution_count": 22,
   "id": "755b2fd9",
   "metadata": {},
   "outputs": [],
   "source": [
    "\n",
    "gdp.to_csv(\"Cleaned data/gdp.csv\")"
   ]
  },
  {
   "cell_type": "markdown",
   "id": "8a428aff",
   "metadata": {},
   "source": [
    "## Unemployment Rate\n",
    "### The unemployment rate represents the number of unemployed as a percentage of the labor force. (16 years age or above)"
   ]
  },
  {
   "cell_type": "code",
   "execution_count": 23,
   "id": "1ead6234",
   "metadata": {},
   "outputs": [],
   "source": [
    "unemployed_rate = pd.read_csv('UNRATE.csv')"
   ]
  },
  {
   "cell_type": "code",
   "execution_count": 24,
   "id": "ec7b3216",
   "metadata": {},
   "outputs": [
    {
     "data": {
      "text/html": [
       "<div>\n",
       "<style scoped>\n",
       "    .dataframe tbody tr th:only-of-type {\n",
       "        vertical-align: middle;\n",
       "    }\n",
       "\n",
       "    .dataframe tbody tr th {\n",
       "        vertical-align: top;\n",
       "    }\n",
       "\n",
       "    .dataframe thead th {\n",
       "        text-align: right;\n",
       "    }\n",
       "</style>\n",
       "<table border=\"1\" class=\"dataframe\">\n",
       "  <thead>\n",
       "    <tr style=\"text-align: right;\">\n",
       "      <th></th>\n",
       "      <th>DATE</th>\n",
       "      <th>UNRATE</th>\n",
       "    </tr>\n",
       "  </thead>\n",
       "  <tbody>\n",
       "    <tr>\n",
       "      <th>0</th>\n",
       "      <td>1990-01-01</td>\n",
       "      <td>5.4</td>\n",
       "    </tr>\n",
       "    <tr>\n",
       "      <th>1</th>\n",
       "      <td>1990-02-01</td>\n",
       "      <td>5.3</td>\n",
       "    </tr>\n",
       "    <tr>\n",
       "      <th>2</th>\n",
       "      <td>1990-03-01</td>\n",
       "      <td>5.2</td>\n",
       "    </tr>\n",
       "    <tr>\n",
       "      <th>3</th>\n",
       "      <td>1990-04-01</td>\n",
       "      <td>5.4</td>\n",
       "    </tr>\n",
       "    <tr>\n",
       "      <th>4</th>\n",
       "      <td>1990-05-01</td>\n",
       "      <td>5.4</td>\n",
       "    </tr>\n",
       "  </tbody>\n",
       "</table>\n",
       "</div>"
      ],
      "text/plain": [
       "         DATE  UNRATE\n",
       "0  1990-01-01     5.4\n",
       "1  1990-02-01     5.3\n",
       "2  1990-03-01     5.2\n",
       "3  1990-04-01     5.4\n",
       "4  1990-05-01     5.4"
      ]
     },
     "execution_count": 24,
     "metadata": {},
     "output_type": "execute_result"
    }
   ],
   "source": [
    "unemployed_rate.head()"
   ]
  },
  {
   "cell_type": "code",
   "execution_count": 25,
   "id": "fd2f9ee1",
   "metadata": {},
   "outputs": [],
   "source": [
    "\n",
    "# Setting DATE as index, column renaming, setting DATE as index, filtering data from \"1987-01-01\":\"2023-07-01\"\n",
    "\n",
    "unemployed_rate.set_index('DATE', inplace =True)\n",
    "unemployed_rate.rename(columns= {'UNRATE': 'unemployed_rate'}, inplace =True)\n",
    "unemployed_rate.index = pd.to_datetime(unemployed_rate.index)\n",
    "unemployed_rate = unemployed_rate[\"1990-01-01\":\"2023-07-01\"]"
   ]
  },
  {
   "cell_type": "code",
   "execution_count": 26,
   "id": "4df7b702",
   "metadata": {},
   "outputs": [
    {
     "data": {
      "text/plain": [
       "(403, 1)"
      ]
     },
     "execution_count": 26,
     "metadata": {},
     "output_type": "execute_result"
    }
   ],
   "source": [
    "\n",
    "unemployed_rate.shape"
   ]
  },
  {
   "cell_type": "code",
   "execution_count": 27,
   "id": "c8209dd9",
   "metadata": {},
   "outputs": [],
   "source": [
    "\n",
    "unemployed_rate.to_csv(\"Cleaned data/unemployed_rate.csv\")\n",
    "     "
   ]
  },
  {
   "cell_type": "markdown",
   "id": "e0633662",
   "metadata": {},
   "source": [
    "### Mortgage Rate\n",
    "##### A mortgage rate is the interest rate charged for a home loan.(Percentage)"
   ]
  },
  {
   "cell_type": "code",
   "execution_count": 28,
   "id": "9ddfd966",
   "metadata": {},
   "outputs": [],
   "source": [
    "\n",
    "mortgage =pd.read_csv(\"MORTGAGE30US.csv\")"
   ]
  },
  {
   "cell_type": "code",
   "execution_count": 29,
   "id": "1901b4e0",
   "metadata": {},
   "outputs": [
    {
     "data": {
      "text/html": [
       "<div>\n",
       "<style scoped>\n",
       "    .dataframe tbody tr th:only-of-type {\n",
       "        vertical-align: middle;\n",
       "    }\n",
       "\n",
       "    .dataframe tbody tr th {\n",
       "        vertical-align: top;\n",
       "    }\n",
       "\n",
       "    .dataframe thead th {\n",
       "        text-align: right;\n",
       "    }\n",
       "</style>\n",
       "<table border=\"1\" class=\"dataframe\">\n",
       "  <thead>\n",
       "    <tr style=\"text-align: right;\">\n",
       "      <th></th>\n",
       "      <th>DATE</th>\n",
       "      <th>MORTGAGE30US</th>\n",
       "    </tr>\n",
       "  </thead>\n",
       "  <tbody>\n",
       "    <tr>\n",
       "      <th>0</th>\n",
       "      <td>1987-01-01</td>\n",
       "      <td>9.2040</td>\n",
       "    </tr>\n",
       "    <tr>\n",
       "      <th>1</th>\n",
       "      <td>1987-02-01</td>\n",
       "      <td>9.0825</td>\n",
       "    </tr>\n",
       "    <tr>\n",
       "      <th>2</th>\n",
       "      <td>1987-03-01</td>\n",
       "      <td>9.0350</td>\n",
       "    </tr>\n",
       "    <tr>\n",
       "      <th>3</th>\n",
       "      <td>1987-04-01</td>\n",
       "      <td>9.8325</td>\n",
       "    </tr>\n",
       "    <tr>\n",
       "      <th>4</th>\n",
       "      <td>1987-05-01</td>\n",
       "      <td>10.5960</td>\n",
       "    </tr>\n",
       "  </tbody>\n",
       "</table>\n",
       "</div>"
      ],
      "text/plain": [
       "         DATE  MORTGAGE30US\n",
       "0  1987-01-01        9.2040\n",
       "1  1987-02-01        9.0825\n",
       "2  1987-03-01        9.0350\n",
       "3  1987-04-01        9.8325\n",
       "4  1987-05-01       10.5960"
      ]
     },
     "execution_count": 29,
     "metadata": {},
     "output_type": "execute_result"
    }
   ],
   "source": [
    "mortgage.head()"
   ]
  },
  {
   "cell_type": "code",
   "execution_count": 30,
   "id": "ca35a9e1",
   "metadata": {},
   "outputs": [],
   "source": [
    "\n",
    "# Setting DATE as index, column renaming, setting DATE as index, filtering data from \"1987-01-01\":\"2023-07-01\"\n",
    "\n",
    "mortgage.set_index('DATE', inplace =True)\n",
    "mortgage.rename(columns= {'MORTGAGE30US': 'mortgage_rate'}, inplace =True)\n",
    "mortgage.index = pd.to_datetime(mortgage.index)\n",
    "mortgage = mortgage[\"1990-01-01\":\"2023-07-01\"]\n",
    "     "
   ]
  },
  {
   "cell_type": "code",
   "execution_count": 31,
   "id": "14ec8b94",
   "metadata": {},
   "outputs": [
    {
     "data": {
      "text/plain": [
       "(403, 1)"
      ]
     },
     "execution_count": 31,
     "metadata": {},
     "output_type": "execute_result"
    }
   ],
   "source": [
    "\n",
    "mortgage.shape"
   ]
  },
  {
   "cell_type": "code",
   "execution_count": 32,
   "id": "bc2a18d0",
   "metadata": {},
   "outputs": [],
   "source": [
    "mortgage.to_csv(\"Cleaned data/mortgage.csv\")"
   ]
  },
  {
   "cell_type": "markdown",
   "id": "a3e7c15f",
   "metadata": {},
   "source": [
    "# Employment-Population Ratio (emratio)"
   ]
  },
  {
   "cell_type": "code",
   "execution_count": 33,
   "id": "10ac5c17",
   "metadata": {},
   "outputs": [],
   "source": [
    "emratio = pd.read_csv(\"EMRATIO.csv\")"
   ]
  },
  {
   "cell_type": "code",
   "execution_count": 34,
   "id": "db88f828",
   "metadata": {},
   "outputs": [
    {
     "data": {
      "text/html": [
       "<div>\n",
       "<style scoped>\n",
       "    .dataframe tbody tr th:only-of-type {\n",
       "        vertical-align: middle;\n",
       "    }\n",
       "\n",
       "    .dataframe tbody tr th {\n",
       "        vertical-align: top;\n",
       "    }\n",
       "\n",
       "    .dataframe thead th {\n",
       "        text-align: right;\n",
       "    }\n",
       "</style>\n",
       "<table border=\"1\" class=\"dataframe\">\n",
       "  <thead>\n",
       "    <tr style=\"text-align: right;\">\n",
       "      <th></th>\n",
       "      <th>DATE</th>\n",
       "      <th>EMRATIO</th>\n",
       "    </tr>\n",
       "  </thead>\n",
       "  <tbody>\n",
       "    <tr>\n",
       "      <th>0</th>\n",
       "      <td>1987-01-01</td>\n",
       "      <td>61.0</td>\n",
       "    </tr>\n",
       "    <tr>\n",
       "      <th>1</th>\n",
       "      <td>1987-02-01</td>\n",
       "      <td>61.1</td>\n",
       "    </tr>\n",
       "    <tr>\n",
       "      <th>2</th>\n",
       "      <td>1987-03-01</td>\n",
       "      <td>61.2</td>\n",
       "    </tr>\n",
       "    <tr>\n",
       "      <th>3</th>\n",
       "      <td>1987-04-01</td>\n",
       "      <td>61.3</td>\n",
       "    </tr>\n",
       "    <tr>\n",
       "      <th>4</th>\n",
       "      <td>1987-05-01</td>\n",
       "      <td>61.6</td>\n",
       "    </tr>\n",
       "  </tbody>\n",
       "</table>\n",
       "</div>"
      ],
      "text/plain": [
       "         DATE  EMRATIO\n",
       "0  1987-01-01     61.0\n",
       "1  1987-02-01     61.1\n",
       "2  1987-03-01     61.2\n",
       "3  1987-04-01     61.3\n",
       "4  1987-05-01     61.6"
      ]
     },
     "execution_count": 34,
     "metadata": {},
     "output_type": "execute_result"
    }
   ],
   "source": [
    "\n",
    "emratio.head()"
   ]
  },
  {
   "cell_type": "code",
   "execution_count": 35,
   "id": "a4a727cc",
   "metadata": {},
   "outputs": [],
   "source": [
    "\n",
    "# Setting DATE as index, column renaming, setting DATE as index, filtering data from \"1987-01-01\":\"2023-07-01\"\n",
    "\n",
    "emratio.set_index('DATE', inplace =True)\n",
    "emratio.rename(columns= {'EMRATIO': 'emratio'}, inplace =True)\n",
    "emratio.index = pd.to_datetime(emratio.index)\n",
    "emratio = emratio[\"1990-01-01\":\"2023-07-01\"]"
   ]
  },
  {
   "cell_type": "code",
   "execution_count": 36,
   "id": "741a9248",
   "metadata": {},
   "outputs": [
    {
     "data": {
      "text/plain": [
       "(403, 1)"
      ]
     },
     "execution_count": 36,
     "metadata": {},
     "output_type": "execute_result"
    }
   ],
   "source": [
    "\n",
    "emratio.shape"
   ]
  },
  {
   "cell_type": "code",
   "execution_count": 37,
   "id": "340c2b89",
   "metadata": {},
   "outputs": [],
   "source": [
    "emratio.to_csv(\"Cleaned data/emratio.csv\")"
   ]
  },
  {
   "cell_type": "markdown",
   "id": "54633277",
   "metadata": {},
   "source": [
    "# Building Construction issued permit in US (Total Units)"
   ]
  },
  {
   "cell_type": "code",
   "execution_count": 38,
   "id": "f35bb4b0",
   "metadata": {},
   "outputs": [],
   "source": [
    "\n",
    "permit = pd.read_csv(\"PERMIT.csv\")"
   ]
  },
  {
   "cell_type": "code",
   "execution_count": 39,
   "id": "62c114ca",
   "metadata": {},
   "outputs": [
    {
     "data": {
      "text/html": [
       "<div>\n",
       "<style scoped>\n",
       "    .dataframe tbody tr th:only-of-type {\n",
       "        vertical-align: middle;\n",
       "    }\n",
       "\n",
       "    .dataframe tbody tr th {\n",
       "        vertical-align: top;\n",
       "    }\n",
       "\n",
       "    .dataframe thead th {\n",
       "        text-align: right;\n",
       "    }\n",
       "</style>\n",
       "<table border=\"1\" class=\"dataframe\">\n",
       "  <thead>\n",
       "    <tr style=\"text-align: right;\">\n",
       "      <th></th>\n",
       "      <th>DATE</th>\n",
       "      <th>PERMIT</th>\n",
       "    </tr>\n",
       "  </thead>\n",
       "  <tbody>\n",
       "    <tr>\n",
       "      <th>0</th>\n",
       "      <td>1990-01-01</td>\n",
       "      <td>1748.0</td>\n",
       "    </tr>\n",
       "    <tr>\n",
       "      <th>1</th>\n",
       "      <td>1990-02-01</td>\n",
       "      <td>1329.0</td>\n",
       "    </tr>\n",
       "    <tr>\n",
       "      <th>2</th>\n",
       "      <td>1990-03-01</td>\n",
       "      <td>1246.0</td>\n",
       "    </tr>\n",
       "    <tr>\n",
       "      <th>3</th>\n",
       "      <td>1990-04-01</td>\n",
       "      <td>1136.0</td>\n",
       "    </tr>\n",
       "    <tr>\n",
       "      <th>4</th>\n",
       "      <td>1990-05-01</td>\n",
       "      <td>1067.0</td>\n",
       "    </tr>\n",
       "  </tbody>\n",
       "</table>\n",
       "</div>"
      ],
      "text/plain": [
       "         DATE  PERMIT\n",
       "0  1990-01-01  1748.0\n",
       "1  1990-02-01  1329.0\n",
       "2  1990-03-01  1246.0\n",
       "3  1990-04-01  1136.0\n",
       "4  1990-05-01  1067.0"
      ]
     },
     "execution_count": 39,
     "metadata": {},
     "output_type": "execute_result"
    }
   ],
   "source": [
    "\n",
    "permit.head()"
   ]
  },
  {
   "cell_type": "code",
   "execution_count": 40,
   "id": "1307d4c8",
   "metadata": {},
   "outputs": [],
   "source": [
    "# Setting DATE as index, column renaming, setting DATE as index, filtering data from \"1987-01-01\":\"2023-07-01\"\n",
    "\n",
    "permit.set_index('DATE', inplace =True)\n",
    "permit.rename(columns= {'PERMIT': 'permit'}, inplace =True)\n",
    "permit.index = pd.to_datetime(permit.index)\n",
    "permit = permit[\"1990-01-01\":\"2023-07-01\"]"
   ]
  },
  {
   "cell_type": "code",
   "execution_count": 41,
   "id": "8217b680",
   "metadata": {},
   "outputs": [
    {
     "data": {
      "text/plain": [
       "(403, 1)"
      ]
     },
     "execution_count": 41,
     "metadata": {},
     "output_type": "execute_result"
    }
   ],
   "source": [
    "\n",
    "permit.shape"
   ]
  },
  {
   "cell_type": "code",
   "execution_count": 42,
   "id": "4dc7cf3d",
   "metadata": {},
   "outputs": [],
   "source": [
    "permit.to_csv(\"Cleaned data/permit.csv\")"
   ]
  },
  {
   "cell_type": "markdown",
   "id": "91b7b6fb",
   "metadata": {},
   "source": [
    "## Labor Force Participation Rate\n",
    "### The participation rate is the percentage of the population that is either working or actively looking for work."
   ]
  },
  {
   "cell_type": "code",
   "execution_count": 43,
   "id": "ed957a25",
   "metadata": {},
   "outputs": [],
   "source": [
    "\n",
    "labor_percent = pd.read_csv(\"CIVPART.csv\")"
   ]
  },
  {
   "cell_type": "code",
   "execution_count": 44,
   "id": "9d22ca7f",
   "metadata": {},
   "outputs": [
    {
     "data": {
      "text/html": [
       "<div>\n",
       "<style scoped>\n",
       "    .dataframe tbody tr th:only-of-type {\n",
       "        vertical-align: middle;\n",
       "    }\n",
       "\n",
       "    .dataframe tbody tr th {\n",
       "        vertical-align: top;\n",
       "    }\n",
       "\n",
       "    .dataframe thead th {\n",
       "        text-align: right;\n",
       "    }\n",
       "</style>\n",
       "<table border=\"1\" class=\"dataframe\">\n",
       "  <thead>\n",
       "    <tr style=\"text-align: right;\">\n",
       "      <th></th>\n",
       "      <th>DATE</th>\n",
       "      <th>CIVPART</th>\n",
       "    </tr>\n",
       "  </thead>\n",
       "  <tbody>\n",
       "    <tr>\n",
       "      <th>0</th>\n",
       "      <td>1990-01-01</td>\n",
       "      <td>66.8</td>\n",
       "    </tr>\n",
       "    <tr>\n",
       "      <th>1</th>\n",
       "      <td>1990-02-01</td>\n",
       "      <td>66.7</td>\n",
       "    </tr>\n",
       "    <tr>\n",
       "      <th>2</th>\n",
       "      <td>1990-03-01</td>\n",
       "      <td>66.7</td>\n",
       "    </tr>\n",
       "    <tr>\n",
       "      <th>3</th>\n",
       "      <td>1990-04-01</td>\n",
       "      <td>66.6</td>\n",
       "    </tr>\n",
       "    <tr>\n",
       "      <th>4</th>\n",
       "      <td>1990-05-01</td>\n",
       "      <td>66.6</td>\n",
       "    </tr>\n",
       "  </tbody>\n",
       "</table>\n",
       "</div>"
      ],
      "text/plain": [
       "         DATE  CIVPART\n",
       "0  1990-01-01     66.8\n",
       "1  1990-02-01     66.7\n",
       "2  1990-03-01     66.7\n",
       "3  1990-04-01     66.6\n",
       "4  1990-05-01     66.6"
      ]
     },
     "execution_count": 44,
     "metadata": {},
     "output_type": "execute_result"
    }
   ],
   "source": [
    "\n",
    "labor_percent.head()"
   ]
  },
  {
   "cell_type": "code",
   "execution_count": 45,
   "id": "365c14b6",
   "metadata": {},
   "outputs": [],
   "source": [
    "# Setting DATE as index, column renaming, setting DATE as index, filtering data from \"1987-01-01\":\"2023-07-01\"\n",
    "\n",
    "labor_percent.set_index('DATE', inplace =True)\n",
    "labor_percent.rename(columns= {'CIVPART': 'labor_percent'}, inplace =True)\n",
    "labor_percent.index = pd.to_datetime(labor_percent.index)\n",
    "labor_percent = labor_percent[\"1990-01-01\":\"2023-07-01\"]"
   ]
  },
  {
   "cell_type": "code",
   "execution_count": 46,
   "id": "1fc25343",
   "metadata": {},
   "outputs": [
    {
     "data": {
      "text/plain": [
       "(403, 1)"
      ]
     },
     "execution_count": 46,
     "metadata": {},
     "output_type": "execute_result"
    }
   ],
   "source": [
    "\n",
    "labor_percent.shape"
   ]
  },
  {
   "cell_type": "code",
   "execution_count": 47,
   "id": "c069f22d",
   "metadata": {},
   "outputs": [],
   "source": [
    "\n",
    "labor_percent.to_csv(\"Cleaned data/labor_percent.csv\")"
   ]
  },
  {
   "cell_type": "markdown",
   "id": "b7a8d25a",
   "metadata": {},
   "source": [
    "## Monthly Supply of New Houses in the United States\n",
    "### The monthy supply is the ratio of new houses for sale to new houses sold."
   ]
  },
  {
   "cell_type": "code",
   "execution_count": 48,
   "id": "71da07b1",
   "metadata": {},
   "outputs": [],
   "source": [
    "\n",
    "monthly_supply = pd.read_csv(\"MSACSR.csv\")"
   ]
  },
  {
   "cell_type": "code",
   "execution_count": 49,
   "id": "5c41759b",
   "metadata": {},
   "outputs": [
    {
     "data": {
      "text/html": [
       "<div>\n",
       "<style scoped>\n",
       "    .dataframe tbody tr th:only-of-type {\n",
       "        vertical-align: middle;\n",
       "    }\n",
       "\n",
       "    .dataframe tbody tr th {\n",
       "        vertical-align: top;\n",
       "    }\n",
       "\n",
       "    .dataframe thead th {\n",
       "        text-align: right;\n",
       "    }\n",
       "</style>\n",
       "<table border=\"1\" class=\"dataframe\">\n",
       "  <thead>\n",
       "    <tr style=\"text-align: right;\">\n",
       "      <th></th>\n",
       "      <th>DATE</th>\n",
       "      <th>MSACSR</th>\n",
       "    </tr>\n",
       "  </thead>\n",
       "  <tbody>\n",
       "    <tr>\n",
       "      <th>0</th>\n",
       "      <td>1987-01-01</td>\n",
       "      <td>6.0</td>\n",
       "    </tr>\n",
       "    <tr>\n",
       "      <th>1</th>\n",
       "      <td>1987-02-01</td>\n",
       "      <td>6.2</td>\n",
       "    </tr>\n",
       "    <tr>\n",
       "      <th>2</th>\n",
       "      <td>1987-03-01</td>\n",
       "      <td>6.0</td>\n",
       "    </tr>\n",
       "    <tr>\n",
       "      <th>3</th>\n",
       "      <td>1987-04-01</td>\n",
       "      <td>6.0</td>\n",
       "    </tr>\n",
       "    <tr>\n",
       "      <th>4</th>\n",
       "      <td>1987-05-01</td>\n",
       "      <td>6.7</td>\n",
       "    </tr>\n",
       "  </tbody>\n",
       "</table>\n",
       "</div>"
      ],
      "text/plain": [
       "         DATE  MSACSR\n",
       "0  1987-01-01     6.0\n",
       "1  1987-02-01     6.2\n",
       "2  1987-03-01     6.0\n",
       "3  1987-04-01     6.0\n",
       "4  1987-05-01     6.7"
      ]
     },
     "execution_count": 49,
     "metadata": {},
     "output_type": "execute_result"
    }
   ],
   "source": [
    "\n",
    "\n",
    "monthly_supply.head()"
   ]
  },
  {
   "cell_type": "code",
   "execution_count": 50,
   "id": "6be0cd6b",
   "metadata": {},
   "outputs": [],
   "source": [
    "\n",
    "# Setting DATE as index, column renaming, setting DATE as index, filtering data from \"1987-01-01\":\"2023-07-01\"\n",
    "\n",
    "monthly_supply.set_index('DATE', inplace =True)\n",
    "monthly_supply.rename(columns= {'MSACSR': 'monthly_supply'}, inplace =True)\n",
    "monthly_supply.index = pd.to_datetime(monthly_supply.index)\n",
    "monthly_supply = monthly_supply[\"1990-01-01\":\"2023-07-01\"]\n",
    "     "
   ]
  },
  {
   "cell_type": "code",
   "execution_count": 51,
   "id": "8f4bfd26",
   "metadata": {},
   "outputs": [
    {
     "data": {
      "text/plain": [
       "(403, 1)"
      ]
     },
     "execution_count": 51,
     "metadata": {},
     "output_type": "execute_result"
    }
   ],
   "source": [
    "\n",
    "monthly_supply.shape"
   ]
  },
  {
   "cell_type": "code",
   "execution_count": 52,
   "id": "428d54f6",
   "metadata": {},
   "outputs": [],
   "source": [
    "\n",
    "monthly_supply.to_csv(\"Cleaned data/monthly_supply.csv\")"
   ]
  },
  {
   "cell_type": "markdown",
   "id": "18142abe",
   "metadata": {},
   "source": [
    "## Housing starts (New Housing Project)\n",
    "### This is a measure of the number of units of new housing projects started in a given period."
   ]
  },
  {
   "cell_type": "code",
   "execution_count": 53,
   "id": "7b387d97",
   "metadata": {},
   "outputs": [],
   "source": [
    "\n",
    "House_starts = pd.read_csv(\"HOUST.csv\")"
   ]
  },
  {
   "cell_type": "code",
   "execution_count": 54,
   "id": "255b8e93",
   "metadata": {},
   "outputs": [
    {
     "data": {
      "text/html": [
       "<div>\n",
       "<style scoped>\n",
       "    .dataframe tbody tr th:only-of-type {\n",
       "        vertical-align: middle;\n",
       "    }\n",
       "\n",
       "    .dataframe tbody tr th {\n",
       "        vertical-align: top;\n",
       "    }\n",
       "\n",
       "    .dataframe thead th {\n",
       "        text-align: right;\n",
       "    }\n",
       "</style>\n",
       "<table border=\"1\" class=\"dataframe\">\n",
       "  <thead>\n",
       "    <tr style=\"text-align: right;\">\n",
       "      <th></th>\n",
       "      <th>DATE</th>\n",
       "      <th>HOUST</th>\n",
       "    </tr>\n",
       "  </thead>\n",
       "  <tbody>\n",
       "    <tr>\n",
       "      <th>0</th>\n",
       "      <td>1990-01-01</td>\n",
       "      <td>1551.0</td>\n",
       "    </tr>\n",
       "    <tr>\n",
       "      <th>1</th>\n",
       "      <td>1990-02-01</td>\n",
       "      <td>1437.0</td>\n",
       "    </tr>\n",
       "    <tr>\n",
       "      <th>2</th>\n",
       "      <td>1990-03-01</td>\n",
       "      <td>1289.0</td>\n",
       "    </tr>\n",
       "    <tr>\n",
       "      <th>3</th>\n",
       "      <td>1990-04-01</td>\n",
       "      <td>1248.0</td>\n",
       "    </tr>\n",
       "    <tr>\n",
       "      <th>4</th>\n",
       "      <td>1990-05-01</td>\n",
       "      <td>1212.0</td>\n",
       "    </tr>\n",
       "  </tbody>\n",
       "</table>\n",
       "</div>"
      ],
      "text/plain": [
       "         DATE   HOUST\n",
       "0  1990-01-01  1551.0\n",
       "1  1990-02-01  1437.0\n",
       "2  1990-03-01  1289.0\n",
       "3  1990-04-01  1248.0\n",
       "4  1990-05-01  1212.0"
      ]
     },
     "execution_count": 54,
     "metadata": {},
     "output_type": "execute_result"
    }
   ],
   "source": [
    "\n",
    "House_starts.head()"
   ]
  },
  {
   "cell_type": "code",
   "execution_count": 55,
   "id": "21b71554",
   "metadata": {},
   "outputs": [],
   "source": [
    "\n",
    "# Setting DATE as index, column renaming, setting DATE as index, filtering data from \"1987-01-01\":\"2023-07-01\"\n",
    "\n",
    "House_starts.set_index('DATE', inplace =True)\n",
    "House_starts.rename(columns= {'HOUST': 'house_st'}, inplace =True)\n",
    "House_starts.index = pd.to_datetime(House_starts.index)\n",
    "House_starts = House_starts[\"1990-01-01\":\"2023-07-01\"]"
   ]
  },
  {
   "cell_type": "code",
   "execution_count": 56,
   "id": "f1b72c58",
   "metadata": {},
   "outputs": [
    {
     "data": {
      "text/plain": [
       "(403, 1)"
      ]
     },
     "execution_count": 56,
     "metadata": {},
     "output_type": "execute_result"
    }
   ],
   "source": [
    "House_starts.shape"
   ]
  },
  {
   "cell_type": "code",
   "execution_count": 57,
   "id": "b633e483",
   "metadata": {},
   "outputs": [],
   "source": [
    "\n",
    "House_starts.to_csv(\"Cleaned data/House_starts.csv\")"
   ]
  },
  {
   "cell_type": "markdown",
   "id": "a8bb612b",
   "metadata": {},
   "source": [
    "## Median Sales Price.\n",
    "### Median Sales Price of Houses Sold for the United States.(US Dollers)"
   ]
  },
  {
   "cell_type": "code",
   "execution_count": 58,
   "id": "956a70c7",
   "metadata": {},
   "outputs": [],
   "source": [
    "\n",
    "MSPUS = pd.read_csv(\"MSPUS.csv\")"
   ]
  },
  {
   "cell_type": "code",
   "execution_count": 59,
   "id": "33bc3abc",
   "metadata": {},
   "outputs": [
    {
     "data": {
      "text/html": [
       "<div>\n",
       "<style scoped>\n",
       "    .dataframe tbody tr th:only-of-type {\n",
       "        vertical-align: middle;\n",
       "    }\n",
       "\n",
       "    .dataframe tbody tr th {\n",
       "        vertical-align: top;\n",
       "    }\n",
       "\n",
       "    .dataframe thead th {\n",
       "        text-align: right;\n",
       "    }\n",
       "</style>\n",
       "<table border=\"1\" class=\"dataframe\">\n",
       "  <thead>\n",
       "    <tr style=\"text-align: right;\">\n",
       "      <th></th>\n",
       "      <th>DATE</th>\n",
       "      <th>MSPUS</th>\n",
       "    </tr>\n",
       "  </thead>\n",
       "  <tbody>\n",
       "    <tr>\n",
       "      <th>0</th>\n",
       "      <td>1990-01-01</td>\n",
       "      <td>123900.0</td>\n",
       "    </tr>\n",
       "    <tr>\n",
       "      <th>1</th>\n",
       "      <td>1990-04-01</td>\n",
       "      <td>126800.0</td>\n",
       "    </tr>\n",
       "    <tr>\n",
       "      <th>2</th>\n",
       "      <td>1990-07-01</td>\n",
       "      <td>117000.0</td>\n",
       "    </tr>\n",
       "    <tr>\n",
       "      <th>3</th>\n",
       "      <td>1990-10-01</td>\n",
       "      <td>121500.0</td>\n",
       "    </tr>\n",
       "    <tr>\n",
       "      <th>4</th>\n",
       "      <td>1991-01-01</td>\n",
       "      <td>120000.0</td>\n",
       "    </tr>\n",
       "  </tbody>\n",
       "</table>\n",
       "</div>"
      ],
      "text/plain": [
       "         DATE     MSPUS\n",
       "0  1990-01-01  123900.0\n",
       "1  1990-04-01  126800.0\n",
       "2  1990-07-01  117000.0\n",
       "3  1990-10-01  121500.0\n",
       "4  1991-01-01  120000.0"
      ]
     },
     "execution_count": 59,
     "metadata": {},
     "output_type": "execute_result"
    }
   ],
   "source": [
    "\n",
    "MSPUS.head()"
   ]
  },
  {
   "cell_type": "code",
   "execution_count": 60,
   "id": "f9bd4f13",
   "metadata": {},
   "outputs": [],
   "source": [
    "\n",
    "# Setting DATE as index, column renaming, setting DATE as index, filtering data from \"1987-01-01\":\"2023-07-01\"\n",
    "\n",
    "MSPUS.set_index('DATE', inplace =True)\n",
    "MSPUS.index = pd.to_datetime(MSPUS.index)\n",
    "\n",
    "# Resampling\n",
    "MSPUS = MSPUS.resample('M').ffill()\n",
    "\n",
    "# # Set the day of the index to 1\n",
    "MSPUS.index = MSPUS.index.map(lambda x: x.replace(day=1))\n",
    "MSPUS = MSPUS[\"1990-01-01\":\"2023-07-01\"]"
   ]
  },
  {
   "cell_type": "code",
   "execution_count": 61,
   "id": "ec7f9afe",
   "metadata": {},
   "outputs": [
    {
     "data": {
      "text/plain": [
       "(403, 1)"
      ]
     },
     "execution_count": 61,
     "metadata": {},
     "output_type": "execute_result"
    }
   ],
   "source": [
    "\n",
    "MSPUS.shape\n",
    "     "
   ]
  },
  {
   "cell_type": "code",
   "execution_count": 62,
   "id": "34621b8d",
   "metadata": {},
   "outputs": [],
   "source": [
    "\n",
    "MSPUS.to_csv(\"Cleaned data/MSPUS.csv\")\n",
    "     "
   ]
  },
  {
   "cell_type": "markdown",
   "id": "3eff36a6",
   "metadata": {},
   "source": [
    "## Producer Price Index -Cement Manufacturing"
   ]
  },
  {
   "cell_type": "code",
   "execution_count": 63,
   "id": "56aad055",
   "metadata": {},
   "outputs": [],
   "source": [
    "\n",
    "PPI_Cement = pd.read_csv(\"PCU327310327310.csv\")"
   ]
  },
  {
   "cell_type": "code",
   "execution_count": 64,
   "id": "ed144422",
   "metadata": {},
   "outputs": [
    {
     "data": {
      "text/html": [
       "<div>\n",
       "<style scoped>\n",
       "    .dataframe tbody tr th:only-of-type {\n",
       "        vertical-align: middle;\n",
       "    }\n",
       "\n",
       "    .dataframe tbody tr th {\n",
       "        vertical-align: top;\n",
       "    }\n",
       "\n",
       "    .dataframe thead th {\n",
       "        text-align: right;\n",
       "    }\n",
       "</style>\n",
       "<table border=\"1\" class=\"dataframe\">\n",
       "  <thead>\n",
       "    <tr style=\"text-align: right;\">\n",
       "      <th></th>\n",
       "      <th>DATE</th>\n",
       "      <th>PCU327310327310</th>\n",
       "    </tr>\n",
       "  </thead>\n",
       "  <tbody>\n",
       "    <tr>\n",
       "      <th>0</th>\n",
       "      <td>1990-01-01</td>\n",
       "      <td>101.7</td>\n",
       "    </tr>\n",
       "    <tr>\n",
       "      <th>1</th>\n",
       "      <td>1990-02-01</td>\n",
       "      <td>101.7</td>\n",
       "    </tr>\n",
       "    <tr>\n",
       "      <th>2</th>\n",
       "      <td>1990-03-01</td>\n",
       "      <td>102.0</td>\n",
       "    </tr>\n",
       "    <tr>\n",
       "      <th>3</th>\n",
       "      <td>1990-04-01</td>\n",
       "      <td>102.5</td>\n",
       "    </tr>\n",
       "    <tr>\n",
       "      <th>4</th>\n",
       "      <td>1990-05-01</td>\n",
       "      <td>102.5</td>\n",
       "    </tr>\n",
       "  </tbody>\n",
       "</table>\n",
       "</div>"
      ],
      "text/plain": [
       "         DATE  PCU327310327310\n",
       "0  1990-01-01            101.7\n",
       "1  1990-02-01            101.7\n",
       "2  1990-03-01            102.0\n",
       "3  1990-04-01            102.5\n",
       "4  1990-05-01            102.5"
      ]
     },
     "execution_count": 64,
     "metadata": {},
     "output_type": "execute_result"
    }
   ],
   "source": [
    "PPI_Cement.head()"
   ]
  },
  {
   "cell_type": "code",
   "execution_count": 65,
   "id": "e948c7ea",
   "metadata": {},
   "outputs": [],
   "source": [
    "# Setting DATE as index, column renaming, setting DATE as index, filtering data from \"1987-01-01\":\"2023-07-01\"\n",
    "\n",
    "PPI_Cement.set_index('DATE', inplace =True)\n",
    "PPI_Cement.rename(columns= {'PCU327310327310': 'PPI_Cement'}, inplace =True)\n",
    "PPI_Cement.index = pd.to_datetime(PPI_Cement.index)\n",
    "PPI_Cement = PPI_Cement[\"1990-01-01\":\"2023-07-01\"]"
   ]
  },
  {
   "cell_type": "code",
   "execution_count": 66,
   "id": "01e61f95",
   "metadata": {},
   "outputs": [
    {
     "data": {
      "text/plain": [
       "(403, 1)"
      ]
     },
     "execution_count": 66,
     "metadata": {},
     "output_type": "execute_result"
    }
   ],
   "source": [
    "\n",
    "PPI_Cement.shape"
   ]
  },
  {
   "cell_type": "code",
   "execution_count": 67,
   "id": "7eed0561",
   "metadata": {},
   "outputs": [],
   "source": [
    "\n",
    "PPI_Cement.to_csv(\"Cleaned data/PPI_Cement.csv\")"
   ]
  },
  {
   "cell_type": "markdown",
   "id": "f671eb4c",
   "metadata": {},
   "source": [
    "# Producer Price Index by Industry: Concrete Brick"
   ]
  },
  {
   "cell_type": "code",
   "execution_count": 68,
   "id": "7b245135",
   "metadata": {},
   "outputs": [],
   "source": [
    "PPI_Concrete = pd.read_csv(\"PCU32733132733106.csv\")\n"
   ]
  },
  {
   "cell_type": "code",
   "execution_count": 69,
   "id": "fefd7c43",
   "metadata": {},
   "outputs": [
    {
     "data": {
      "text/html": [
       "<div>\n",
       "<style scoped>\n",
       "    .dataframe tbody tr th:only-of-type {\n",
       "        vertical-align: middle;\n",
       "    }\n",
       "\n",
       "    .dataframe tbody tr th {\n",
       "        vertical-align: top;\n",
       "    }\n",
       "\n",
       "    .dataframe thead th {\n",
       "        text-align: right;\n",
       "    }\n",
       "</style>\n",
       "<table border=\"1\" class=\"dataframe\">\n",
       "  <thead>\n",
       "    <tr style=\"text-align: right;\">\n",
       "      <th></th>\n",
       "      <th>DATE</th>\n",
       "      <th>PCU32733132733106</th>\n",
       "    </tr>\n",
       "  </thead>\n",
       "  <tbody>\n",
       "    <tr>\n",
       "      <th>0</th>\n",
       "      <td>1990-01-01</td>\n",
       "      <td>122.2</td>\n",
       "    </tr>\n",
       "    <tr>\n",
       "      <th>1</th>\n",
       "      <td>1990-02-01</td>\n",
       "      <td>122.2</td>\n",
       "    </tr>\n",
       "    <tr>\n",
       "      <th>2</th>\n",
       "      <td>1990-03-01</td>\n",
       "      <td>122.2</td>\n",
       "    </tr>\n",
       "    <tr>\n",
       "      <th>3</th>\n",
       "      <td>1990-04-01</td>\n",
       "      <td>122.2</td>\n",
       "    </tr>\n",
       "    <tr>\n",
       "      <th>4</th>\n",
       "      <td>1990-05-01</td>\n",
       "      <td>122.2</td>\n",
       "    </tr>\n",
       "  </tbody>\n",
       "</table>\n",
       "</div>"
      ],
      "text/plain": [
       "         DATE  PCU32733132733106\n",
       "0  1990-01-01              122.2\n",
       "1  1990-02-01              122.2\n",
       "2  1990-03-01              122.2\n",
       "3  1990-04-01              122.2\n",
       "4  1990-05-01              122.2"
      ]
     },
     "execution_count": 69,
     "metadata": {},
     "output_type": "execute_result"
    }
   ],
   "source": [
    "\n",
    "PPI_Concrete.head()"
   ]
  },
  {
   "cell_type": "code",
   "execution_count": 70,
   "id": "c6987469",
   "metadata": {},
   "outputs": [],
   "source": [
    "# Setting DATE as index, column renaming, setting DATE as index, filtering data from \"1987-01-01\":\"2023-07-01\"\n",
    "\n",
    "PPI_Concrete.set_index('DATE', inplace =True)\n",
    "PPI_Concrete.rename(columns= {'PCU32733132733106': 'PPI_Concrete'}, inplace =True)\n",
    "PPI_Concrete.index = pd.to_datetime(PPI_Concrete.index)\n",
    "PPI_Concrete = PPI_Concrete[\"1990-01-01\":\"2023-07-01\"]"
   ]
  },
  {
   "cell_type": "code",
   "execution_count": 71,
   "id": "c53418d8",
   "metadata": {},
   "outputs": [
    {
     "data": {
      "text/plain": [
       "(403, 1)"
      ]
     },
     "execution_count": 71,
     "metadata": {},
     "output_type": "execute_result"
    }
   ],
   "source": [
    "\n",
    "PPI_Concrete.shape"
   ]
  },
  {
   "cell_type": "code",
   "execution_count": 72,
   "id": "1c7fbddb",
   "metadata": {},
   "outputs": [],
   "source": [
    "\n",
    "PPI_Concrete.to_csv(\"Cleaned data/PPI_Concrete.csv\")"
   ]
  },
  {
   "cell_type": "markdown",
   "id": "b90cd418",
   "metadata": {},
   "source": [
    "## All Employees, Residential Building Construction (Thousands of Peoples)\n",
    "Construction employees in the construction sector include: Working supervisors, qualified craft workers, mechanics, apprentices, helpers, laborers, and so forth, engaged in new work, alterations, demolition, repair, maintenance etc."
   ]
  },
  {
   "cell_type": "code",
   "execution_count": 73,
   "id": "6ca0135d",
   "metadata": {},
   "outputs": [],
   "source": [
    "\n",
    "all_Const_Emp = pd.read_csv(\"CES2023610001.csv\")"
   ]
  },
  {
   "cell_type": "code",
   "execution_count": 74,
   "id": "20a04def",
   "metadata": {},
   "outputs": [
    {
     "data": {
      "text/html": [
       "<div>\n",
       "<style scoped>\n",
       "    .dataframe tbody tr th:only-of-type {\n",
       "        vertical-align: middle;\n",
       "    }\n",
       "\n",
       "    .dataframe tbody tr th {\n",
       "        vertical-align: top;\n",
       "    }\n",
       "\n",
       "    .dataframe thead th {\n",
       "        text-align: right;\n",
       "    }\n",
       "</style>\n",
       "<table border=\"1\" class=\"dataframe\">\n",
       "  <thead>\n",
       "    <tr style=\"text-align: right;\">\n",
       "      <th></th>\n",
       "      <th>DATE</th>\n",
       "      <th>CES2023610001</th>\n",
       "    </tr>\n",
       "  </thead>\n",
       "  <tbody>\n",
       "    <tr>\n",
       "      <th>0</th>\n",
       "      <td>1990-01-01</td>\n",
       "      <td>710.3</td>\n",
       "    </tr>\n",
       "    <tr>\n",
       "      <th>1</th>\n",
       "      <td>1990-02-01</td>\n",
       "      <td>707.3</td>\n",
       "    </tr>\n",
       "    <tr>\n",
       "      <th>2</th>\n",
       "      <td>1990-03-01</td>\n",
       "      <td>703.0</td>\n",
       "    </tr>\n",
       "    <tr>\n",
       "      <th>3</th>\n",
       "      <td>1990-04-01</td>\n",
       "      <td>692.5</td>\n",
       "    </tr>\n",
       "    <tr>\n",
       "      <th>4</th>\n",
       "      <td>1990-05-01</td>\n",
       "      <td>688.6</td>\n",
       "    </tr>\n",
       "  </tbody>\n",
       "</table>\n",
       "</div>"
      ],
      "text/plain": [
       "         DATE  CES2023610001\n",
       "0  1990-01-01          710.3\n",
       "1  1990-02-01          707.3\n",
       "2  1990-03-01          703.0\n",
       "3  1990-04-01          692.5\n",
       "4  1990-05-01          688.6"
      ]
     },
     "execution_count": 74,
     "metadata": {},
     "output_type": "execute_result"
    }
   ],
   "source": [
    "all_Const_Emp.head()"
   ]
  },
  {
   "cell_type": "code",
   "execution_count": 75,
   "id": "1c794236",
   "metadata": {},
   "outputs": [],
   "source": [
    "# Setting DATE as index, column renaming, setting DATE as index, filtering data from \"1987-01-01\":\"2023-07-01\"\n",
    "\n",
    "all_Const_Emp.set_index('DATE', inplace =True)\n",
    "all_Const_Emp.rename(columns= {'CES2023610001': 'all_Const_Emp'}, inplace =True)\n",
    "all_Const_Emp.index = pd.to_datetime(all_Const_Emp.index)\n",
    "all_Const_Emp = all_Const_Emp[\"1990-01-01\":\"2023-07-01\"]"
   ]
  },
  {
   "cell_type": "code",
   "execution_count": 76,
   "id": "d9ce3665",
   "metadata": {},
   "outputs": [
    {
     "data": {
      "text/plain": [
       "(403, 1)"
      ]
     },
     "execution_count": 76,
     "metadata": {},
     "output_type": "execute_result"
    }
   ],
   "source": [
    "\n",
    "all_Const_Emp.shape"
   ]
  },
  {
   "cell_type": "code",
   "execution_count": 77,
   "id": "482157de",
   "metadata": {},
   "outputs": [],
   "source": [
    "\n",
    "all_Const_Emp.to_csv(\"Cleaned data/all_Const_Emp.csv\")"
   ]
  },
  {
   "cell_type": "markdown",
   "id": "489517c5",
   "metadata": {},
   "source": [
    "# All Employees, Construction (Thousands of persons)\n",
    "Construction employees in the construction sector include: Working supervisors, qualified craft workers, mechanics, apprentices, helpers, laborers, and so forth, engaged in new work, alterations, demolition, repair, maintenance."
   ]
  },
  {
   "cell_type": "code",
   "execution_count": 78,
   "id": "32d07c80",
   "metadata": {},
   "outputs": [],
   "source": [
    "\n",
    "total_emp_cons = pd.read_csv(\"USCONS.csv\")"
   ]
  },
  {
   "cell_type": "code",
   "execution_count": 79,
   "id": "83e2468d",
   "metadata": {},
   "outputs": [
    {
     "data": {
      "text/html": [
       "<div>\n",
       "<style scoped>\n",
       "    .dataframe tbody tr th:only-of-type {\n",
       "        vertical-align: middle;\n",
       "    }\n",
       "\n",
       "    .dataframe tbody tr th {\n",
       "        vertical-align: top;\n",
       "    }\n",
       "\n",
       "    .dataframe thead th {\n",
       "        text-align: right;\n",
       "    }\n",
       "</style>\n",
       "<table border=\"1\" class=\"dataframe\">\n",
       "  <thead>\n",
       "    <tr style=\"text-align: right;\">\n",
       "      <th></th>\n",
       "      <th>DATE</th>\n",
       "      <th>USCONS</th>\n",
       "    </tr>\n",
       "  </thead>\n",
       "  <tbody>\n",
       "    <tr>\n",
       "      <th>0</th>\n",
       "      <td>1990-01-01</td>\n",
       "      <td>5422</td>\n",
       "    </tr>\n",
       "    <tr>\n",
       "      <th>1</th>\n",
       "      <td>1990-02-01</td>\n",
       "      <td>5416</td>\n",
       "    </tr>\n",
       "    <tr>\n",
       "      <th>2</th>\n",
       "      <td>1990-03-01</td>\n",
       "      <td>5392</td>\n",
       "    </tr>\n",
       "    <tr>\n",
       "      <th>3</th>\n",
       "      <td>1990-04-01</td>\n",
       "      <td>5355</td>\n",
       "    </tr>\n",
       "    <tr>\n",
       "      <th>4</th>\n",
       "      <td>1990-05-01</td>\n",
       "      <td>5321</td>\n",
       "    </tr>\n",
       "  </tbody>\n",
       "</table>\n",
       "</div>"
      ],
      "text/plain": [
       "         DATE  USCONS\n",
       "0  1990-01-01    5422\n",
       "1  1990-02-01    5416\n",
       "2  1990-03-01    5392\n",
       "3  1990-04-01    5355\n",
       "4  1990-05-01    5321"
      ]
     },
     "execution_count": 79,
     "metadata": {},
     "output_type": "execute_result"
    }
   ],
   "source": [
    "total_emp_cons.head()"
   ]
  },
  {
   "cell_type": "code",
   "execution_count": 80,
   "id": "6a9e3bf0",
   "metadata": {},
   "outputs": [],
   "source": [
    "\n",
    "# Setting DATE as index, column renaming, setting DATE as index, filtering data from \"1987-01-01\":\"2023-07-01\"\n",
    "\n",
    "total_emp_cons.set_index('DATE', inplace =True)\n",
    "total_emp_cons.rename(columns= {'USCONS': 'total_emp_cons'}, inplace =True)\n",
    "total_emp_cons.index = pd.to_datetime(total_emp_cons.index)\n",
    "total_emp_cons = total_emp_cons[\"1990-01-01\":\"2023-07-01\"]"
   ]
  },
  {
   "cell_type": "code",
   "execution_count": 81,
   "id": "4bf63345",
   "metadata": {},
   "outputs": [
    {
     "data": {
      "text/plain": [
       "(403, 1)"
      ]
     },
     "execution_count": 81,
     "metadata": {},
     "output_type": "execute_result"
    }
   ],
   "source": [
    "total_emp_cons.shape"
   ]
  },
  {
   "cell_type": "code",
   "execution_count": 82,
   "id": "2ccce0e2",
   "metadata": {},
   "outputs": [],
   "source": [
    "\n",
    "total_emp_cons.to_csv(\"Cleaned data/total_emp_cons.csv\")"
   ]
  },
  {
   "cell_type": "markdown",
   "id": "a7fe7ccc",
   "metadata": {},
   "source": [
    "# Industrial Production: Cement\n",
    "The industrial production (IP) index measures the real output of all relevant establishments located in the United States"
   ]
  },
  {
   "cell_type": "code",
   "execution_count": 83,
   "id": "e65c95d9",
   "metadata": {},
   "outputs": [],
   "source": [
    "IPI_Cement = pd.read_csv(\"IPN32731S.csv\")\n",
    "     "
   ]
  },
  {
   "cell_type": "code",
   "execution_count": 84,
   "id": "89f12f2f",
   "metadata": {},
   "outputs": [
    {
     "data": {
      "text/html": [
       "<div>\n",
       "<style scoped>\n",
       "    .dataframe tbody tr th:only-of-type {\n",
       "        vertical-align: middle;\n",
       "    }\n",
       "\n",
       "    .dataframe tbody tr th {\n",
       "        vertical-align: top;\n",
       "    }\n",
       "\n",
       "    .dataframe thead th {\n",
       "        text-align: right;\n",
       "    }\n",
       "</style>\n",
       "<table border=\"1\" class=\"dataframe\">\n",
       "  <thead>\n",
       "    <tr style=\"text-align: right;\">\n",
       "      <th></th>\n",
       "      <th>DATE</th>\n",
       "      <th>IPN32731S</th>\n",
       "    </tr>\n",
       "  </thead>\n",
       "  <tbody>\n",
       "    <tr>\n",
       "      <th>0</th>\n",
       "      <td>1990-01-01</td>\n",
       "      <td>138.1363</td>\n",
       "    </tr>\n",
       "    <tr>\n",
       "      <th>1</th>\n",
       "      <td>1990-02-01</td>\n",
       "      <td>134.7538</td>\n",
       "    </tr>\n",
       "    <tr>\n",
       "      <th>2</th>\n",
       "      <td>1990-03-01</td>\n",
       "      <td>132.5115</td>\n",
       "    </tr>\n",
       "    <tr>\n",
       "      <th>3</th>\n",
       "      <td>1990-04-01</td>\n",
       "      <td>127.1853</td>\n",
       "    </tr>\n",
       "    <tr>\n",
       "      <th>4</th>\n",
       "      <td>1990-05-01</td>\n",
       "      <td>123.8842</td>\n",
       "    </tr>\n",
       "  </tbody>\n",
       "</table>\n",
       "</div>"
      ],
      "text/plain": [
       "         DATE  IPN32731S\n",
       "0  1990-01-01   138.1363\n",
       "1  1990-02-01   134.7538\n",
       "2  1990-03-01   132.5115\n",
       "3  1990-04-01   127.1853\n",
       "4  1990-05-01   123.8842"
      ]
     },
     "execution_count": 84,
     "metadata": {},
     "output_type": "execute_result"
    }
   ],
   "source": [
    "\n",
    "IPI_Cement.head()\n",
    "     "
   ]
  },
  {
   "cell_type": "code",
   "execution_count": 85,
   "id": "158c1af9",
   "metadata": {},
   "outputs": [],
   "source": [
    "\n",
    "# Setting DATE as index, column renaming, setting DATE as index, filtering data from \"1987-01-01\":\"2023-07-01\"\n",
    "\n",
    "IPI_Cement.set_index('DATE', inplace =True)\n",
    "IPI_Cement.rename(columns= {'IPN32731S': 'IPI_Cement'}, inplace =True)\n",
    "IPI_Cement.index = pd.to_datetime(IPI_Cement.index)\n",
    "IPI_Cement = IPI_Cement[\"1990-01-01\":\"2023-07-01\"]"
   ]
  },
  {
   "cell_type": "code",
   "execution_count": 86,
   "id": "f0531e0e",
   "metadata": {},
   "outputs": [
    {
     "data": {
      "text/plain": [
       "(403, 1)"
      ]
     },
     "execution_count": 86,
     "metadata": {},
     "output_type": "execute_result"
    }
   ],
   "source": [
    "\n",
    "IPI_Cement.shape"
   ]
  },
  {
   "cell_type": "code",
   "execution_count": 87,
   "id": "3cbe5d57",
   "metadata": {},
   "outputs": [],
   "source": [
    "\n",
    "IPI_Cement.to_csv(\"Cleaned data/IPI_Cement.csv\")\n",
    "     \n"
   ]
  },
  {
   "cell_type": "markdown",
   "id": "b4550915",
   "metadata": {},
   "source": [
    "# Homeownership Rate (Percentage)\n",
    "The homeownership rate is the proportion of households that is owner-occupied."
   ]
  },
  {
   "cell_type": "code",
   "execution_count": 88,
   "id": "1f33f80e",
   "metadata": {},
   "outputs": [],
   "source": [
    "\n",
    "home_ow_rate = pd.read_csv(\"RHORUSQ156N.csv\")"
   ]
  },
  {
   "cell_type": "code",
   "execution_count": 89,
   "id": "2eb9285e",
   "metadata": {},
   "outputs": [
    {
     "data": {
      "text/html": [
       "<div>\n",
       "<style scoped>\n",
       "    .dataframe tbody tr th:only-of-type {\n",
       "        vertical-align: middle;\n",
       "    }\n",
       "\n",
       "    .dataframe tbody tr th {\n",
       "        vertical-align: top;\n",
       "    }\n",
       "\n",
       "    .dataframe thead th {\n",
       "        text-align: right;\n",
       "    }\n",
       "</style>\n",
       "<table border=\"1\" class=\"dataframe\">\n",
       "  <thead>\n",
       "    <tr style=\"text-align: right;\">\n",
       "      <th></th>\n",
       "      <th>DATE</th>\n",
       "      <th>RHORUSQ156N</th>\n",
       "    </tr>\n",
       "  </thead>\n",
       "  <tbody>\n",
       "    <tr>\n",
       "      <th>0</th>\n",
       "      <td>1990-01-01</td>\n",
       "      <td>64.0</td>\n",
       "    </tr>\n",
       "    <tr>\n",
       "      <th>1</th>\n",
       "      <td>1990-04-01</td>\n",
       "      <td>63.7</td>\n",
       "    </tr>\n",
       "    <tr>\n",
       "      <th>2</th>\n",
       "      <td>1990-07-01</td>\n",
       "      <td>64.0</td>\n",
       "    </tr>\n",
       "    <tr>\n",
       "      <th>3</th>\n",
       "      <td>1990-10-01</td>\n",
       "      <td>64.1</td>\n",
       "    </tr>\n",
       "    <tr>\n",
       "      <th>4</th>\n",
       "      <td>1991-01-01</td>\n",
       "      <td>63.9</td>\n",
       "    </tr>\n",
       "  </tbody>\n",
       "</table>\n",
       "</div>"
      ],
      "text/plain": [
       "         DATE  RHORUSQ156N\n",
       "0  1990-01-01         64.0\n",
       "1  1990-04-01         63.7\n",
       "2  1990-07-01         64.0\n",
       "3  1990-10-01         64.1\n",
       "4  1991-01-01         63.9"
      ]
     },
     "execution_count": 89,
     "metadata": {},
     "output_type": "execute_result"
    }
   ],
   "source": [
    "\n",
    "home_ow_rate.head()"
   ]
  },
  {
   "cell_type": "code",
   "execution_count": 90,
   "id": "5db73574",
   "metadata": {},
   "outputs": [],
   "source": [
    "# Setting DATE as index, column renaming, setting DATE as index, filtering data from \"1987-01-01\":\"2023-07-01\"\n",
    "\n",
    "home_ow_rate.set_index('DATE', inplace =True)\n",
    "home_ow_rate.index = pd.to_datetime(home_ow_rate.index)\n",
    "home_ow_rate.rename(columns= {'RSAHORUSQ156S': 'home_ow_rate'}, inplace =True)\n",
    "\n",
    "# Resampling\n",
    "home_ow_rate = home_ow_rate.resample('M').ffill()\n",
    "\n",
    "# # Set the day of the index to 1\n",
    "home_ow_rate.index = home_ow_rate.index.map(lambda x: x.replace(day=1))\n",
    "home_ow_rate = home_ow_rate[\"1990-01-01\":\"2023-07-01\"]"
   ]
  },
  {
   "cell_type": "code",
   "execution_count": 91,
   "id": "149c4596",
   "metadata": {},
   "outputs": [
    {
     "data": {
      "text/plain": [
       "(403, 1)"
      ]
     },
     "execution_count": 91,
     "metadata": {},
     "output_type": "execute_result"
    }
   ],
   "source": [
    "\n",
    "home_ow_rate.shape"
   ]
  },
  {
   "cell_type": "code",
   "execution_count": 92,
   "id": "249c4083",
   "metadata": {},
   "outputs": [],
   "source": [
    "\n",
    "home_ow_rate.to_csv(\"Cleaned data/home_ow_rate.csv\")"
   ]
  },
  {
   "cell_type": "markdown",
   "id": "3e283008",
   "metadata": {},
   "source": [
    "# Personal Saving Rate (Percent)\n",
    "Personal saving as a percentage of disposable personal income (DPI), frequently referred to as \"the personal saving rate,\" is calculated as the ratio of personal saving to DPI. Personal income that is used either to provide funds to capital markets or to invest in real assets such as residences."
   ]
  },
  {
   "cell_type": "code",
   "execution_count": 93,
   "id": "67c8d17c",
   "metadata": {},
   "outputs": [],
   "source": [
    "\n",
    "p_saving_rate =pd.read_csv(\"PSAVERT.csv\")"
   ]
  },
  {
   "cell_type": "code",
   "execution_count": 94,
   "id": "8e82c7b0",
   "metadata": {},
   "outputs": [
    {
     "data": {
      "text/html": [
       "<div>\n",
       "<style scoped>\n",
       "    .dataframe tbody tr th:only-of-type {\n",
       "        vertical-align: middle;\n",
       "    }\n",
       "\n",
       "    .dataframe tbody tr th {\n",
       "        vertical-align: top;\n",
       "    }\n",
       "\n",
       "    .dataframe thead th {\n",
       "        text-align: right;\n",
       "    }\n",
       "</style>\n",
       "<table border=\"1\" class=\"dataframe\">\n",
       "  <thead>\n",
       "    <tr style=\"text-align: right;\">\n",
       "      <th></th>\n",
       "      <th>DATE</th>\n",
       "      <th>PSAVERT</th>\n",
       "    </tr>\n",
       "  </thead>\n",
       "  <tbody>\n",
       "    <tr>\n",
       "      <th>0</th>\n",
       "      <td>1990-01-01</td>\n",
       "      <td>7.9</td>\n",
       "    </tr>\n",
       "    <tr>\n",
       "      <th>1</th>\n",
       "      <td>1990-02-01</td>\n",
       "      <td>8.5</td>\n",
       "    </tr>\n",
       "    <tr>\n",
       "      <th>2</th>\n",
       "      <td>1990-03-01</td>\n",
       "      <td>8.3</td>\n",
       "    </tr>\n",
       "    <tr>\n",
       "      <th>3</th>\n",
       "      <td>1990-04-01</td>\n",
       "      <td>8.7</td>\n",
       "    </tr>\n",
       "    <tr>\n",
       "      <th>4</th>\n",
       "      <td>1990-05-01</td>\n",
       "      <td>8.7</td>\n",
       "    </tr>\n",
       "  </tbody>\n",
       "</table>\n",
       "</div>"
      ],
      "text/plain": [
       "         DATE  PSAVERT\n",
       "0  1990-01-01      7.9\n",
       "1  1990-02-01      8.5\n",
       "2  1990-03-01      8.3\n",
       "3  1990-04-01      8.7\n",
       "4  1990-05-01      8.7"
      ]
     },
     "execution_count": 94,
     "metadata": {},
     "output_type": "execute_result"
    }
   ],
   "source": [
    "p_saving_rate.head()"
   ]
  },
  {
   "cell_type": "code",
   "execution_count": 95,
   "id": "55e7fae3",
   "metadata": {},
   "outputs": [],
   "source": [
    "\n",
    "# Setting DATE as index, column renaming, setting DATE as index, filtering data from \"1987-01-01\":\"2023-07-01\"\n",
    "\n",
    "p_saving_rate.set_index('DATE', inplace =True)\n",
    "p_saving_rate.rename(columns= {'PSAVERT': 'p_saving_rate'}, inplace =True)\n",
    "p_saving_rate.index = pd.to_datetime(p_saving_rate.index)\n",
    "p_saving_rate = p_saving_rate[\"1990-01-01\":\"2023-07-01\"]"
   ]
  },
  {
   "cell_type": "code",
   "execution_count": 96,
   "id": "e3c2dcc9",
   "metadata": {},
   "outputs": [
    {
     "data": {
      "text/plain": [
       "(403, 1)"
      ]
     },
     "execution_count": 96,
     "metadata": {},
     "output_type": "execute_result"
    }
   ],
   "source": [
    "\n",
    "p_saving_rate.shape"
   ]
  },
  {
   "cell_type": "code",
   "execution_count": 97,
   "id": "d5134032",
   "metadata": {},
   "outputs": [],
   "source": [
    "p_saving_rate.to_csv(\"Cleaned data/p_saving_rate.csv\")"
   ]
  },
  {
   "cell_type": "markdown",
   "id": "653162d3",
   "metadata": {},
   "source": [
    "# New Privately-Owned Housing Construction Completed: (Total units in thousands)"
   ]
  },
  {
   "cell_type": "code",
   "execution_count": 98,
   "id": "7c350b3a",
   "metadata": {},
   "outputs": [],
   "source": [
    "\n",
    "\n",
    "new_private_house = pd.read_csv(\"COMPUTSA.csv\")"
   ]
  },
  {
   "cell_type": "code",
   "execution_count": 99,
   "id": "b8ddd382",
   "metadata": {},
   "outputs": [
    {
     "data": {
      "text/html": [
       "<div>\n",
       "<style scoped>\n",
       "    .dataframe tbody tr th:only-of-type {\n",
       "        vertical-align: middle;\n",
       "    }\n",
       "\n",
       "    .dataframe tbody tr th {\n",
       "        vertical-align: top;\n",
       "    }\n",
       "\n",
       "    .dataframe thead th {\n",
       "        text-align: right;\n",
       "    }\n",
       "</style>\n",
       "<table border=\"1\" class=\"dataframe\">\n",
       "  <thead>\n",
       "    <tr style=\"text-align: right;\">\n",
       "      <th></th>\n",
       "      <th>DATE</th>\n",
       "      <th>COMPUTSA</th>\n",
       "    </tr>\n",
       "  </thead>\n",
       "  <tbody>\n",
       "    <tr>\n",
       "      <th>0</th>\n",
       "      <td>1990-01-01</td>\n",
       "      <td>1508.0</td>\n",
       "    </tr>\n",
       "    <tr>\n",
       "      <th>1</th>\n",
       "      <td>1990-02-01</td>\n",
       "      <td>1352.0</td>\n",
       "    </tr>\n",
       "    <tr>\n",
       "      <th>2</th>\n",
       "      <td>1990-03-01</td>\n",
       "      <td>1345.0</td>\n",
       "    </tr>\n",
       "    <tr>\n",
       "      <th>3</th>\n",
       "      <td>1990-04-01</td>\n",
       "      <td>1332.0</td>\n",
       "    </tr>\n",
       "    <tr>\n",
       "      <th>4</th>\n",
       "      <td>1990-05-01</td>\n",
       "      <td>1351.0</td>\n",
       "    </tr>\n",
       "  </tbody>\n",
       "</table>\n",
       "</div>"
      ],
      "text/plain": [
       "         DATE  COMPUTSA\n",
       "0  1990-01-01    1508.0\n",
       "1  1990-02-01    1352.0\n",
       "2  1990-03-01    1345.0\n",
       "3  1990-04-01    1332.0\n",
       "4  1990-05-01    1351.0"
      ]
     },
     "execution_count": 99,
     "metadata": {},
     "output_type": "execute_result"
    }
   ],
   "source": [
    "\n",
    "\n",
    "new_private_house.head()"
   ]
  },
  {
   "cell_type": "code",
   "execution_count": 100,
   "id": "610d9105",
   "metadata": {},
   "outputs": [],
   "source": [
    "# Setting DATE as index, column renaming, setting DATE as index, filtering data from \"1987-01-01\":\"2023-07-01\"\n",
    "\n",
    "new_private_house.set_index('DATE', inplace =True)\n",
    "new_private_house.rename(columns= {'COMPUTSA': 'new_private_house'}, inplace =True)\n",
    "new_private_house.index = pd.to_datetime(new_private_house.index)\n",
    "new_private_house = new_private_house[\"1990-01-01\":\"2023-07-01\"]"
   ]
  },
  {
   "cell_type": "code",
   "execution_count": 101,
   "id": "71032e8a",
   "metadata": {},
   "outputs": [
    {
     "data": {
      "text/plain": [
       "(403, 1)"
      ]
     },
     "execution_count": 101,
     "metadata": {},
     "output_type": "execute_result"
    }
   ],
   "source": [
    "new_private_house.shape\n",
    "     \n"
   ]
  },
  {
   "cell_type": "code",
   "execution_count": 102,
   "id": "3e109d93",
   "metadata": {},
   "outputs": [],
   "source": [
    "\n",
    "new_private_house.to_csv(\"Cleaned data/new_private_house.csv\")"
   ]
  },
  {
   "cell_type": "markdown",
   "id": "3896183a",
   "metadata": {},
   "source": [
    "# New Privately-Owned Housing Units Under Construction: Total Units in thousands"
   ]
  },
  {
   "cell_type": "code",
   "execution_count": 103,
   "id": "69b9e504",
   "metadata": {},
   "outputs": [],
   "source": [
    "new_private_hw_under = pd.read_csv(\"UNDCONTSA.csv\")"
   ]
  },
  {
   "cell_type": "code",
   "execution_count": 104,
   "id": "dc13d91d",
   "metadata": {},
   "outputs": [
    {
     "data": {
      "text/html": [
       "<div>\n",
       "<style scoped>\n",
       "    .dataframe tbody tr th:only-of-type {\n",
       "        vertical-align: middle;\n",
       "    }\n",
       "\n",
       "    .dataframe tbody tr th {\n",
       "        vertical-align: top;\n",
       "    }\n",
       "\n",
       "    .dataframe thead th {\n",
       "        text-align: right;\n",
       "    }\n",
       "</style>\n",
       "<table border=\"1\" class=\"dataframe\">\n",
       "  <thead>\n",
       "    <tr style=\"text-align: right;\">\n",
       "      <th></th>\n",
       "      <th>DATE</th>\n",
       "      <th>UNDCONTSA</th>\n",
       "    </tr>\n",
       "  </thead>\n",
       "  <tbody>\n",
       "    <tr>\n",
       "      <th>0</th>\n",
       "      <td>1990-01-01</td>\n",
       "      <td>891.0</td>\n",
       "    </tr>\n",
       "    <tr>\n",
       "      <th>1</th>\n",
       "      <td>1990-02-01</td>\n",
       "      <td>898.0</td>\n",
       "    </tr>\n",
       "    <tr>\n",
       "      <th>2</th>\n",
       "      <td>1990-03-01</td>\n",
       "      <td>885.0</td>\n",
       "    </tr>\n",
       "    <tr>\n",
       "      <th>3</th>\n",
       "      <td>1990-04-01</td>\n",
       "      <td>872.0</td>\n",
       "    </tr>\n",
       "    <tr>\n",
       "      <th>4</th>\n",
       "      <td>1990-05-01</td>\n",
       "      <td>858.0</td>\n",
       "    </tr>\n",
       "  </tbody>\n",
       "</table>\n",
       "</div>"
      ],
      "text/plain": [
       "         DATE  UNDCONTSA\n",
       "0  1990-01-01      891.0\n",
       "1  1990-02-01      898.0\n",
       "2  1990-03-01      885.0\n",
       "3  1990-04-01      872.0\n",
       "4  1990-05-01      858.0"
      ]
     },
     "execution_count": 104,
     "metadata": {},
     "output_type": "execute_result"
    }
   ],
   "source": [
    "new_private_hw_under.head()\n",
    "     "
   ]
  },
  {
   "cell_type": "code",
   "execution_count": 105,
   "id": "0c343276",
   "metadata": {},
   "outputs": [],
   "source": [
    "# Setting DATE as index, column renaming, setting DATE as index, filtering data from \"1987-01-01\":\"2023-07-01\"\n",
    "\n",
    "new_private_hw_under.set_index('DATE', inplace =True)\n",
    "new_private_hw_under.rename(columns= {'UNDCONTSA': 'new_private_hw_under'}, inplace =True)\n",
    "new_private_hw_under.index = pd.to_datetime(new_private_hw_under.index)\n",
    "new_private_hw_under = new_private_hw_under[\"1990-01-01\":\"2023-07-01\"]"
   ]
  },
  {
   "cell_type": "code",
   "execution_count": 106,
   "id": "05c6458f",
   "metadata": {},
   "outputs": [
    {
     "data": {
      "text/plain": [
       "(403, 1)"
      ]
     },
     "execution_count": 106,
     "metadata": {},
     "output_type": "execute_result"
    }
   ],
   "source": [
    "new_private_hw_under.shape\n",
    "     "
   ]
  },
  {
   "cell_type": "code",
   "execution_count": 107,
   "id": "7c6cbff8",
   "metadata": {},
   "outputs": [],
   "source": [
    "new_private_hw_under.to_csv(\"Cleaned data/new_private_hw_under.csv\")"
   ]
  },
  {
   "cell_type": "code",
   "execution_count": null,
   "id": "93ac0f08",
   "metadata": {},
   "outputs": [],
   "source": []
  }
 ],
 "metadata": {
  "kernelspec": {
   "display_name": "Python 3 (ipykernel)",
   "language": "python",
   "name": "python3"
  },
  "language_info": {
   "codemirror_mode": {
    "name": "ipython",
    "version": 3
   },
   "file_extension": ".py",
   "mimetype": "text/x-python",
   "name": "python",
   "nbconvert_exporter": "python",
   "pygments_lexer": "ipython3",
   "version": "3.10.9"
  }
 },
 "nbformat": 4,
 "nbformat_minor": 5
}
